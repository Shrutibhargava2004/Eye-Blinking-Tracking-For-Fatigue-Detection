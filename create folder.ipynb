{
 "cells": [
  {
   "cell_type": "code",
   "execution_count": 1,
   "id": "174e5ab4-4aa1-40cc-a139-e855100c9c49",
   "metadata": {},
   "outputs": [],
   "source": [
    "import os\n",
    "import shutil"
   ]
  },
  {
   "cell_type": "code",
   "execution_count": 15,
   "id": "2dac1b42-b4c5-4283-9ed0-a77477576031",
   "metadata": {},
   "outputs": [],
   "source": [
    "# Define the paths\n",
    "train_folder = 'D:/Sem - 5/Minor - 1/dataset/train'  # Update this with the correct path to your train folder\n",
    "annotation_file = \"D:/Sem - 5/Minor - 1/dataset/train/_annotations_clean.txt\"  # Assuming one annotation file for all classes\n",
    "class_names = [\n",
    "    'DangerousDriving',\n",
    "    'Distracted',\n",
    "    'Drinking',\n",
    "    'SafeDriving',\n",
    "    'SleepyDriving',\n",
    "    'Yawn'\n",
    "]"
   ]
  },
  {
   "cell_type": "code",
   "execution_count": 16,
   "id": "eebff2af-50c4-4634-987a-eea911c97f22",
   "metadata": {},
   "outputs": [],
   "source": [
    "# Create class folders inside the train folder\n",
    "for class_name in class_names:\n",
    "    os.makedirs(os.path.join(train_folder, class_name), exist_ok=True)"
   ]
  },
  {
   "cell_type": "code",
   "execution_count": 17,
   "id": "f1bc7921-aade-4dbc-93ff-3ef83fc523b2",
   "metadata": {},
   "outputs": [
    {
     "name": "stdout",
     "output_type": "stream",
     "text": [
      "Images organized successfully!\n"
     ]
    }
   ],
   "source": [
    "# Check if the annotation file exists\n",
    "if os.path.exists(annotation_file):\n",
    "    with open(annotation_file, 'r') as file:\n",
    "        for line in file:\n",
    "            parts = line.strip().split(' ')\n",
    "            image_name = parts[0]\n",
    "            label = int(parts[1].split(',')[-1])  # Extract the label (last value in the coordinates)\n",
    "\n",
    "            # Determine the corresponding class name based on the label\n",
    "            if label < len(class_names):\n",
    "                class_folder = os.path.join(train_folder, class_names[label])\n",
    "                \n",
    "                # Construct the source path\n",
    "                src_image_path = os.path.join(train_folder, image_name)\n",
    "\n",
    "                # Move the image to the corresponding class folder\n",
    "                if os.path.exists(src_image_path):\n",
    "                    shutil.move(src_image_path, os.path.join(class_folder, image_name))\n",
    "                else:\n",
    "                    print(f\"Image not found: {src_image_path}\")\n",
    "            else:\n",
    "                print(f\"Label out of range: {label}\")\n",
    "\n",
    "else:\n",
    "    print(f\"Annotation file not found: {annotation_file}\")\n",
    "\n",
    "print(\"Images organized successfully!\")"
   ]
  },
  {
   "cell_type": "markdown",
   "id": "f6adf250-8547-4282-ad1a-53a333c87a59",
   "metadata": {},
   "source": [
    "### TEST DATA"
   ]
  },
  {
   "cell_type": "code",
   "execution_count": 18,
   "id": "2ec885ad-5a9f-4a2a-9e0b-a138ca4b18d4",
   "metadata": {},
   "outputs": [],
   "source": [
    "# Define the paths\n",
    "test_folder = 'D:/Sem - 5/Minor - 1/dataset/test'  # Update this with the correct path to your train folder\n",
    "annotation_file = \"D:/Sem - 5/Minor - 1/dataset/test/_annotations_clean.txt\"  # Assuming one annotation file for all classes\n",
    "class_names = [\n",
    "    'DangerousDriving',\n",
    "    'Distracted',\n",
    "    'Drinking',\n",
    "    'SafeDriving',\n",
    "    'SleepyDriving',\n",
    "    'Yawn'\n",
    "]"
   ]
  },
  {
   "cell_type": "code",
   "execution_count": 19,
   "id": "012fca5e-a1b0-4a69-a006-10a7177c2fe1",
   "metadata": {},
   "outputs": [
    {
     "name": "stdout",
     "output_type": "stream",
     "text": [
      "Images organized successfully!\n"
     ]
    }
   ],
   "source": [
    "# Create class folders inside the train folder\n",
    "for class_name in class_names:\n",
    "    os.makedirs(os.path.join(test_folder, class_name), exist_ok=True)\n",
    "# Check if the annotation file exists\n",
    "if os.path.exists(annotation_file):\n",
    "    with open(annotation_file, 'r') as file:\n",
    "        for line in file:\n",
    "            parts = line.strip().split(' ')\n",
    "            image_name = parts[0]\n",
    "            label = int(parts[1].split(',')[-1])  # Extract the label (last value in the coordinates)\n",
    "\n",
    "            # Determine the corresponding class name based on the label\n",
    "            if label < len(class_names):\n",
    "                class_folder = os.path.join(test_folder, class_names[label])\n",
    "                \n",
    "                # Construct the source path\n",
    "                src_image_path = os.path.join(test_folder, image_name)\n",
    "\n",
    "                # Move the image to the corresponding class folder\n",
    "                if os.path.exists(src_image_path):\n",
    "                    shutil.move(src_image_path, os.path.join(class_folder, image_name))\n",
    "                else:\n",
    "                    print(f\"Image not found: {src_image_path}\")\n",
    "            else:\n",
    "                print(f\"Label out of range: {label}\")\n",
    "\n",
    "else:\n",
    "    print(f\"Annotation file not found: {annotation_file}\")\n",
    "\n",
    "print(\"Images organized successfully!\")"
   ]
  },
  {
   "cell_type": "markdown",
   "id": "81bdec00-42ce-42fe-9309-87e676e94870",
   "metadata": {},
   "source": [
    "### VALIDATION DATA"
   ]
  },
  {
   "cell_type": "code",
   "execution_count": 22,
   "id": "19612722-bddc-422d-995f-062e60a8622e",
   "metadata": {},
   "outputs": [],
   "source": [
    "# Define the paths\n",
    "valid_folder = 'D:/Sem - 5/Minor - 1/dataset/valid'  # Update this with the correct path to your train folder\n",
    "annotation_file = \"D:/Sem - 5/Minor - 1/dataset/valid/_annotations_clean.txt\"  # Assuming one annotation file for all classes\n",
    "class_names = [\n",
    "    'DangerousDriving',\n",
    "    'Distracted',\n",
    "    'Drinking',\n",
    "    'SafeDriving',\n",
    "    'SleepyDriving',\n",
    "    'Yawn'\n",
    "]"
   ]
  },
  {
   "cell_type": "code",
   "execution_count": 23,
   "id": "c1e8642c-af3d-4bbb-86fb-78d2ec17c091",
   "metadata": {},
   "outputs": [
    {
     "name": "stdout",
     "output_type": "stream",
     "text": [
      "Images organized successfully!\n"
     ]
    }
   ],
   "source": [
    "# Create class folders inside the train folder\n",
    "for class_name in class_names:\n",
    "    os.makedirs(os.path.join(valid_folder, class_name), exist_ok=True)\n",
    "# Check if the annotation file exists\n",
    "if os.path.exists(annotation_file):\n",
    "    with open(annotation_file, 'r') as file:\n",
    "        for line in file:\n",
    "            parts = line.strip().split(' ')\n",
    "            image_name = parts[0]\n",
    "            label = int(parts[1].split(',')[-1])  # Extract the label (last value in the coordinates)\n",
    "\n",
    "            # Determine the corresponding class name based on the label\n",
    "            if label < len(class_names):\n",
    "                class_folder = os.path.join(valid_folder, class_names[label])\n",
    "                \n",
    "                # Construct the source path\n",
    "                src_image_path = os.path.join(valid_folder, image_name)\n",
    "\n",
    "                # Move the image to the corresponding class folder\n",
    "                if os.path.exists(src_image_path):\n",
    "                    shutil.move(src_image_path, os.path.join(class_folder, image_name))\n",
    "                else:\n",
    "                    print(f\"Image not found: {src_image_path}\")\n",
    "            else:\n",
    "                print(f\"Label out of range: {label}\")\n",
    "\n",
    "else:\n",
    "    print(f\"Annotation file not found: {annotation_file}\")\n",
    "\n",
    "print(\"Images organized successfully!\")"
   ]
  }
 ],
 "metadata": {
  "kernelspec": {
   "display_name": "Python 3 (ipykernel)",
   "language": "python",
   "name": "python3"
  },
  "language_info": {
   "codemirror_mode": {
    "name": "ipython",
    "version": 3
   },
   "file_extension": ".py",
   "mimetype": "text/x-python",
   "name": "python",
   "nbconvert_exporter": "python",
   "pygments_lexer": "ipython3",
   "version": "3.10.7"
  }
 },
 "nbformat": 4,
 "nbformat_minor": 5
}
