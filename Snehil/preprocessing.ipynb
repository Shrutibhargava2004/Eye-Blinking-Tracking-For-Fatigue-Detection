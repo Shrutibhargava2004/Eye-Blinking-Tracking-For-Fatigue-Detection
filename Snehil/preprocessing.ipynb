{
 "cells": [
  {
   "cell_type": "code",
   "execution_count": 1,
   "id": "c17c4eb5-0ec7-4523-af97-2659cac50d8a",
   "metadata": {},
   "outputs": [
    {
     "data": {
      "image/png": "[encoded data removed]",
      "text/plain": [
       "<Figure size 800x500 with 1 Axes>"
      ]
     },
     "metadata": {},
     "output_type": "display_data"
    }
   ],
   "source": [
    "import os\n",
    "import matplotlib.pyplot as plt\n",
    "\n",
    "dataset_path = r'D:\\MINOR\\Project\\my_dataset'  # Change to your dataset path\n",
    "categories = ['Active', 'Sleepy']  # Adjust according to your classes\n",
    "\n",
    "# Count the number of images in each class\n",
    "class_counts = [len(os.listdir(os.path.join(dataset_path, category))) for category in categories]\n",
    "\n",
    "# Plotting the class distribution\n",
    "plt.figure(figsize=(8, 5))\n",
    "plt.bar(categories, class_counts, color=['blue', 'orange'])\n",
    "plt.title('Class Distribution')\n",
    "plt.xlabel('Classes')\n",
    "plt.ylabel('Number of Images')\n",
    "plt.xticks(rotation=45)\n",
    "plt.show()"
   ]
  },
  {
   "cell_type": "markdown",
   "id": "a4cb6792-822c-40c4-ac4b-cbf3141a3d57",
   "metadata": {},
   "source": [
    "### Augmentation"
   ]
  },
  {
   "cell_type": "code",
   "execution_count": null,
   "id": "ad5c2a92-9e7e-42d4-9577-95adf9f22844",
   "metadata": {},
   "outputs": [],
   "source": [
    "import cv2\n",
    "import numpy as np\n",
    "import os\n",
    "import random\n",
    "\n",
    "# Paths for dataset\n",
    "input_folder = \"D:\\\\MINOR\\\\Project\\\\new_dataset\"\n",
    "\n",
    "# Function to rotate image\n",
    "def rotate_image(image, angle):\n",
    "    (h, w) = image.shape[:2]\n",
    "    center = (w // 2, h // 2)\n",
    "    M = cv2.getRotationMatrix2D(center, angle, 1.0)\n",
    "    rotated = cv2.warpAffine(image, M, (w, h))\n",
    "    return rotated\n",
    "\n",
    "# Function to shift image\n",
    "def shift_image(image, shift_x, shift_y):\n",
    "    M = np.float32([[1, 0, shift_x], [0, 1, shift_y]])\n",
    "    shifted = cv2.warpAffine(image, M, (image.shape[1], image.shape[0]))\n",
    "    return shifted\n",
    "\n",
    "# Function to apply random transformations\n",
    "def augment_image(img):\n",
    "    # Rotate the image\n",
    "    angle = random.randint(-30, 30)\n",
    "    img_rotated = rotate_image(img, angle)\n",
    "\n",
    "    # Shift the image\n",
    "    shift_x = random.randint(-10, 10)\n",
    "    shift_y = random.randint(-10, 10)\n",
    "    img_shifted = shift_image(img_rotated, shift_x, shift_y)\n",
    "\n",
    "    # Flip the image horizontally\n",
    "    img_flipped = cv2.flip(img_shifted, 1)\n",
    "\n",
    "    return img_flipped\n",
    "\n",
    "# Function to augment images in each subfolder\n",
    "def augment_images(subfolder):\n",
    "    folder_path = os.path.join(input_folder, subfolder)\n",
    "\n",
    "    # Loop through each image in the folder\n",
    "    for img_name in os.listdir(folder_path):\n",
    "        img_path = os.path.join(folder_path, img_name)\n",
    "        img = cv2.imread(img_path)\n",
    "\n",
    "        if img is None:\n",
    "            continue\n",
    "\n",
    "        # Generate 5 augmented images per original image\n",
    "        for i in range(5):\n",
    "            augmented_img = augment_image(img)\n",
    "            new_img_name = f\"aug_{i}_{img_name}\"\n",
    "            cv2.imwrite(os.path.join(folder_path, new_img_name), augmented_img)\n",
    "\n",
    "# Apply augmentation to the 'Active' and 'Sleepy' folders\n",
    "for folder in ['Active', 'Sleepy']:\n",
    "    augment_images(folder)"
   ]
  },
  {
   "cell_type": "markdown",
   "id": "ddc6cddb-590b-43f4-9f2d-005016193c5a",
   "metadata": {},
   "source": [
    "### Resize"
   ]
  },
  {
   "cell_type": "code",
   "execution_count": 13,
   "id": "5a09257b-d559-476e-aa79-3f955fb565b8",
   "metadata": {},
   "outputs": [],
   "source": [
    "import cv2\n",
    "import glob\n",
    "import os"
   ]
  },
  {
   "cell_type": "code",
   "execution_count": 16,
   "id": "b0edbc34-dcc3-44dd-aa70-29238178fa0e",
   "metadata": {},
   "outputs": [],
   "source": [
    "inputFolder = 'D:\\\\MINOR\\\\Project\\\\dataset\\\\no yawn'"
   ]
  },
  {
   "cell_type": "code",
   "execution_count": 17,
   "id": "f6004dbc-606d-4e9f-8aaf-a4139aee34d6",
   "metadata": {},
   "outputs": [],
   "source": [
    "i=0\n",
    "for img in glob.glob(inputFolder+\"/*.jpg\"):\n",
    "    image=cv2.imread(img)\n",
    "    imgResized=cv2.resize(image, (224, 224))\n",
    "    cv2.imwrite(\"D:\\\\MINOR\\\\Project\\\\my_dataset\\\\no yawn\\\\image_%0i.jpg\" %i, imgResized)\n",
    "    i+=1\n",
    "    #cv2.imshow('image', imgResized)\n",
    "    #cv2.waitKey(30)\n",
    "cv2.destroyAllWindows()"
   ]
  },
  {
   "cell_type": "markdown",
   "id": "a54d17f1-e891-41a7-b95e-da28f32cd53b",
   "metadata": {},
   "source": [
    "### Split"
   ]
  },
  {
   "cell_type": "code",
   "execution_count": 18,
   "id": "3fe89bcb-bb96-4021-86dc-8948dce49208",
   "metadata": {},
   "outputs": [],
   "source": [
    "import os\n",
    "import shutil\n",
    "import random\n",
    "\n",
    "# Paths\n",
    "input_folder = 'D:\\\\MINOR\\\\Project\\\\my_dataset'\n",
    "output_base_folder = 'D:\\\\MINOR\\\\Project\\\\original_dataset'\n",
    "\n",
    "# Define the dataset split ratio\n",
    "train_ratio = 0.8\n",
    "val_ratio = 0.1\n",
    "test_ratio = 0.1\n",
    "\n",
    "# Create output directories for train, valid, test with subfolders for each class\n",
    "for split in ['train', 'valid', 'test']:\n",
    "    split_path = os.path.join(output_base_folder, split)\n",
    "    if not os.path.exists(split_path):\n",
    "        os.makedirs(split_path)\n",
    "    \n",
    "    for category in ['Active', 'Sleepy', 'yawn', 'no yawn']:\n",
    "        category_path = os.path.join(split_path, category)\n",
    "        if not os.path.exists(category_path):\n",
    "            os.makedirs(category_path)\n",
    "\n",
    "# Function to split data and move to respective folders\n",
    "def split_and_move_images(class_folder):\n",
    "    folder_path = os.path.join(input_folder, class_folder)\n",
    "    images = os.listdir(folder_path)\n",
    "    random.shuffle(images)\n",
    "\n",
    "    total_images = len(images)\n",
    "    train_size = int(train_ratio * total_images)\n",
    "    val_size = int(val_ratio * total_images)\n",
    "\n",
    "    train_images = images[:train_size]\n",
    "    val_images = images[train_size:train_size + val_size]\n",
    "    test_images = images[train_size + val_size:]\n",
    "\n",
    "    # Move images to train folder\n",
    "    for img in train_images:\n",
    "        src = os.path.join(folder_path, img)\n",
    "        dst = os.path.join(output_base_folder, 'train', class_folder, img)\n",
    "        shutil.copy(src, dst)\n",
    "\n",
    "    # Move images to valid folder\n",
    "    for img in val_images:\n",
    "        src = os.path.join(folder_path, img)\n",
    "        dst = os.path.join(output_base_folder, 'valid', class_folder, img)\n",
    "        shutil.copy(src, dst)\n",
    "\n",
    "    # Move images to test folder\n",
    "    for img in test_images:\n",
    "        src = os.path.join(folder_path, img)\n",
    "        dst = os.path.join(output_base_folder, 'test', class_folder, img)\n",
    "        shutil.copy(src, dst)\n",
    "\n",
    "# Apply split and move for each class\n",
    "for class_name in ['Active', 'Sleepy', 'yawn', 'no yawn']:\n",
    "    split_and_move_images(class_name)"
   ]
  },
  {
   "cell_type": "markdown",
   "id": "ea9e75e2-7db3-4e40-b9eb-90bd160f9fa1",
   "metadata": {},
   "source": [
    "### Annotations"
   ]
  },
  {
   "cell_type": "code",
   "execution_count": 19,
   "id": "ce639417-8043-4b57-bea0-20cca9dfce1e",
   "metadata": {},
   "outputs": [],
   "source": [
    "import os\n",
    "\n",
    "# Base path to the dataset containing train, valid, and test folders\n",
    "base_dataset_path = 'D:\\\\MINOR\\\\Project\\\\original_dataset'\n",
    "\n",
    "# Classes in the dataset\n",
    "classes = ['Active', 'Sleepy']  # Only two classes\n",
    "\n",
    "# Function to create annotation file\n",
    "def create_annotation_file(folder, output_file):\n",
    "    folder_path = os.path.join(base_dataset_path, folder)\n",
    "    with open(output_file, 'w') as f:\n",
    "        # Loop through each class folder\n",
    "        for label, class_name in enumerate(classes):\n",
    "            class_folder = os.path.join(folder_path, class_name)\n",
    "            # Loop through each image in the class folder\n",
    "            for img_name in os.listdir(class_folder):\n",
    "                img_path = os.path.join(class_folder, img_name)\n",
    "                # Write the image path and class label to the file\n",
    "                f.write(f\"{img_path} {label}\\n\")\n",
    "\n",
    "# Create annotation files for train, valid, and test folders\n",
    "create_annotation_file('train', 'train_annotations.txt')\n",
    "create_annotation_file('valid', 'valid_annotations.txt')\n",
    "create_annotation_file('test', 'test_annotations.txt')"
   ]
  },
  {
   "cell_type": "code",
   "execution_count": null,
   "id": "eedeed1c-2c36-4a80-a51a-8eb96e2bd263",
   "metadata": {},
   "outputs": [],
   "source": []
  }
 ],
 "metadata": {
  "kernelspec": {
   "display_name": "Python 3 (ipykernel)",
   "language": "python",
   "name": "python3"
  },
  "language_info": {
   "codemirror_mode": {
    "name": "ipython",
    "version": 3
   },
   "file_extension": ".py",
   "mimetype": "text/x-python",
   "name": "python",
   "nbconvert_exporter": "python",
   "pygments_lexer": "ipython3",
   "version": "3.11.4"
  }
 },
 "nbformat": 4,
 "nbformat_minor": 5
}
